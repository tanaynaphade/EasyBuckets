{
 "cells": [
  {
   "cell_type": "markdown",
   "metadata": {},
   "source": [
    "# 🏀 NBA Playoffs Points Prediction (Pre-Game Knowledge Only)\n",
    "\n",
    "## 🎯 Realistic Playoffs Prediction Challenge\n",
    "\n",
    "**Objective**: Use regular season data to predict player performance in playoffs using ONLY information available before games start.\n",
    "\n",
    "### What We Know Before Playoffs:\n",
    "✅ Regular season team performance\n",
    "✅ Player historical averages\n",
    "✅ Team strength metrics\n",
    "✅ Matchup difficulty\n",
    "\n",
    "### What We DON'T Use:\n",
    "❌ In-game statistics (minutes, field goals, rebounds)\n",
    "❌ Game outcomes\n",
    "❌ Any information learned during the games\n",
    "\n",
    "### The Challenge:\n",
    "**Playoffs are different!** Players often perform differently in high-pressure playoff situations compared to regular season."
   ]
  },
  {
   "cell_type": "markdown",
   "metadata": {},
   "source": [
    "## 1. Import Libraries"
   ]
  },
  {
   "cell_type": "code",
   "execution_count": 4,
   "metadata": {},
   "outputs": [
    {
     "name": "stdout",
     "output_type": "stream",
     "text": [
      "🏀 NBA Playoffs Prediction Setup Complete!\n",
      "TensorFlow version: 2.17.0\n"
     ]
    }
   ],
   "source": [
    "import pandas as pd\n",
    "import numpy as np\n",
    "import matplotlib.pyplot as plt\n",
    "import seaborn as sns\n",
    "from sklearn.ensemble import RandomForestRegressor\n",
    "from sklearn.linear_model import LinearRegression\n",
    "from sklearn.preprocessing import StandardScaler\n",
    "from sklearn.metrics import mean_squared_error, r2_score, mean_absolute_error\n",
    "from sklearn.model_selection import KFold\n",
    "import xgboost as xgb\n",
    "import warnings\n",
    "\n",
    "# TensorFlow imports\n",
    "import tensorflow as tf\n",
    "from tensorflow import keras\n",
    "from tensorflow.keras import layers\n",
    "from tensorflow.keras.callbacks import EarlyStopping\n",
    "\n",
    "import warnings\n",
    "warnings.filterwarnings('ignore')\n",
    "\n",
    "plt.style.use('default')\n",
    "sns.set_palette(\"husl\")\n",
    "\n",
    "print(\"🏀 NBA Playoffs Prediction Setup Complete!\")\n",
    "print(f\"TensorFlow version: {tf.__version__}\")"
   ]
  },
  {
   "cell_type": "markdown",
   "metadata": {},
   "source": [
    "## 2. Load and Analyze Data"
   ]
  },
  {
   "cell_type": "code",
   "execution_count": 5,
   "metadata": {},
   "outputs": [
    {
     "name": "stdout",
     "output_type": "stream",
     "text": [
      "📊 DATASET OVERVIEW:\n",
      "Dataset shape: (28135, 25)\n",
      "Date range: 2024-10-22 00:00:00 to 2025-06-22 00:00:00\n",
      "Unique players: 620\n",
      "Unique teams: 33\n",
      "\n",
      "🏀 REALISTIC PLAYOFFS PREDICTION SETUP:\n",
      "Regular season games: 26331 (Training Data)\n",
      "Playoff games: 1804 (Prediction Target)\n",
      "\n",
      "Regular season teams: ['ATL', 'BKN', 'BOS', 'BRK', 'CHA', 'CHI', 'CHO', 'CLE', 'DAL', 'DEN', 'DET', 'GSW', 'HOU', 'IND', 'LAC', 'LAL', 'MEM', 'MIA', 'MIL', 'MIN', 'NOP', 'NYK', 'OKC', 'ORL', 'PHI', 'PHO', 'PHX', 'POR', 'SAC', 'SAS', 'TOR', 'UTA', 'WAS']\n",
      "Playoff teams: ['BOS', 'CLE', 'DEN', 'DET', 'GSW', 'HOU', 'IND', 'LAC', 'LAL', 'MEM', 'MIA', 'MIL', 'MIN', 'NYK', 'OKC', 'ORL']\n",
      "\n",
      "👥 Players in both regular season and playoffs: 219\n",
      "This represents the challenge: predicting playoff performance from regular season data!\n"
     ]
    }
   ],
   "source": [
    "# Load NBA game data\n",
    "df = pd.read_csv('nba_game_player_data.csv')\n",
    "df['Data'] = pd.to_datetime(df['Data'])\n",
    "\n",
    "print(f\"📊 DATASET OVERVIEW:\")\n",
    "print(f\"Dataset shape: {df.shape}\")\n",
    "print(f\"Date range: {df['Data'].min()} to {df['Data'].max()}\")\n",
    "print(f\"Unique players: {df['Player'].nunique()}\")\n",
    "print(f\"Unique teams: {df['Tm'].nunique()}\")\n",
    "\n",
    "# Realistic playoff prediction setup\n",
    "regular_season = df[(df['Data'] >= pd.Timestamp('2024-10-22')) & \n",
    "                (df['Data'] <= pd.Timestamp('2025-04-13'))].copy()\n",
    "playoffs = df[(df['Data'] > pd.Timestamp('2025-04-13')) & \n",
    "               (df['Data'] <= pd.Timestamp('2025-06-22'))].copy()\n",
    "\n",
    "print(f\"\\n🏀 REALISTIC PLAYOFFS PREDICTION SETUP:\")\n",
    "print(f\"Regular season games: {len(regular_season)} (Training Data)\")\n",
    "print(f\"Playoff games: {len(playoffs)} (Prediction Target)\")\n",
    "\n",
    "print(f\"\\nRegular season teams: {sorted(regular_season['Tm'].unique())}\")\n",
    "print(f\"Playoff teams: {sorted(playoffs['Tm'].unique())}\")\n",
    "\n",
    "# Check overlap\n",
    "common_players = set(regular_season['Player'].unique()) & set(playoffs['Player'].unique())\n",
    "print(f\"\\n👥 Players in both regular season and playoffs: {len(common_players)}\")\n",
    "print(f\"This represents the challenge: predicting playoff performance from regular season data!\")"
   ]
  },
  {
   "cell_type": "markdown",
   "metadata": {},
   "source": [
    "## 3. Pre-Game Feature Engineering for Playoffs"
   ]
  },
  {
   "cell_type": "code",
   "execution_count": 30,
   "metadata": {},
   "outputs": [
    {
     "name": "stdout",
     "output_type": "stream",
     "text": [
      "🎯 PLAYOFF PRE-GAME FEATURES:\n",
      "Features: ['RS_Player_MP', 'RS_Player_PTS', 'RS_Player_FGA', 'RS_Player_TRB', 'RS_Player_AST', 'RS_Player_FG_PCT', 'RS_Player_3P_PCT', 'Is_Star_Player', 'Is_Starter', 'Is_Shooter', 'Scoring_Volume', 'RS_Team_Win_Rate', 'RS_Opp_Defensive_Strength', 'Playoff_Team_Advantage', 'Expected_Scoring_Environment', 'Is_Team_LAL', 'Is_Team_GSW', 'Is_Team_BOS', 'Is_Team_MIA', 'Is_Team_PHI', 'Is_Team_CLE', 'Is_Team_MIL', 'Is_Team_PHO']\n",
      "Playoff predictions: 1804 players\n",
      "Feature count: 23\n"
     ]
    }
   ],
   "source": [
    "def prepare_playoffs_pregame_features(playoff_data, regular_season_data):\n",
    "    \"\"\"\n",
    "    Prepare features for playoff prediction using ONLY pre-game knowledge\n",
    "    \n",
    "    Uses regular season data to build context for playoff predictions\n",
    "    \"\"\"\n",
    "    \n",
    "    features_df = playoff_data.copy()\n",
    "    \n",
    "    # 1. REGULAR SEASON TEAM PERFORMANCE (known before playoffs)\n",
    "    regular_team_stats = regular_season_data.groupby('Tm').agg({\n",
    "        'Res': lambda x: (x == 'W').mean(),  # Regular season win rate\n",
    "        'PTS': 'mean',  # Average points scored in regular season\n",
    "        'MP': 'mean'   # Average minutes played\n",
    "    }).round(3)\n",
    "    regular_team_stats.columns = ['RS_Team_Win_Rate', 'RS_Team_Avg_Points', 'RS_Team_Avg_Minutes']\n",
    "    \n",
    "    # 2. REGULAR SEASON OPPONENT ANALYSIS\n",
    "    regular_opp_stats = regular_season_data.groupby('Opp').agg({\n",
    "        'Res': lambda x: (x == 'L').mean(),  # How often opponents lost to them\n",
    "        'PTS': 'mean'  # Average points allowed\n",
    "    }).round(3)\n",
    "    regular_opp_stats.columns = ['RS_Opp_Defensive_Strength', 'RS_Opp_Avg_Points_Allowed']\n",
    "    \n",
    "    # 3. PLAYER REGULAR SEASON AVERAGES (most important for playoffs)\n",
    "    player_regular_stats = regular_season_data.groupby('Player').agg({\n",
    "        'MP': 'mean',\n",
    "        'PTS': 'mean',\n",
    "        'FGA': 'mean',\n",
    "        'TRB': 'mean',\n",
    "        'AST': 'mean',\n",
    "        'FG%': 'mean',\n",
    "        '3P%': 'mean'\n",
    "    }).round(2)\n",
    "    player_regular_stats.columns = ['RS_Player_MP', 'RS_Player_PTS', 'RS_Player_FGA', \n",
    "                                   'RS_Player_TRB', 'RS_Player_AST', 'RS_Player_FG_PCT', 'RS_Player_3P_PCT']\n",
    "    \n",
    "    # Merge player regular season stats\n",
    "    features_df = features_df.merge(player_regular_stats, left_on='Player', right_index=True, how='left')\n",
    "    \n",
    "    # 4. PLAYER ROLE INDICATORS (from regular season)\n",
    "    features_df['Is_Star_Player'] = (features_df['RS_Player_PTS'] >= 15).astype(int)\n",
    "    features_df['Is_Starter'] = (features_df['RS_Player_MP'] >= 25).astype(int)\n",
    "    features_df['Is_Shooter'] = (features_df['RS_Player_3P_PCT'] >= 0.35).astype(int)\n",
    "    features_df['Scoring_Volume'] = features_df['RS_Player_FGA']  # How much they shoot\n",
    "    \n",
    "    # 5. TEAM CONTEXT (merge team stats where available)\n",
    "    features_df = features_df.merge(regular_team_stats, left_on='Tm', right_index=True, how='left')\n",
    "    features_df = features_df.merge(regular_opp_stats, left_on='Opp', right_index=True, how='left')\n",
    "    \n",
    "    # 6. PLAYOFF CONTEXT FEATURES\n",
    "    # Fill missing team stats with league averages (for new playoff teams)\n",
    "    league_avg_win_rate = 0.5\n",
    "    league_avg_points = regular_season_data['PTS'].mean()\n",
    "    \n",
    "    features_df['RS_Team_Win_Rate'] = features_df['RS_Team_Win_Rate'].fillna(league_avg_win_rate)\n",
    "    features_df['RS_Team_Avg_Points'] = features_df['RS_Team_Avg_Points'].fillna(league_avg_points)\n",
    "    features_df['RS_Opp_Defensive_Strength'] = features_df['RS_Opp_Defensive_Strength'].fillna(0.5)\n",
    "    features_df['RS_Opp_Avg_Points_Allowed'] = features_df['RS_Opp_Avg_Points_Allowed'].fillna(league_avg_points)\n",
    "    \n",
    "    # 7. MATCHUP DIFFICULTY FOR PLAYOFFS\n",
    "    features_df['Playoff_Team_Advantage'] = features_df['RS_Team_Win_Rate'] - features_df['RS_Opp_Defensive_Strength']\n",
    "    features_df['Expected_Scoring_Environment'] = features_df['RS_Team_Avg_Points'] / features_df['RS_Opp_Avg_Points_Allowed']\n",
    "    \n",
    "    # 8. PLAYOFF TEAM INDICATORS (key playoff teams)\n",
    "    playoff_contenders = ['LAL', 'GSW', 'BOS', 'MIA', 'PHI', 'CLE', 'MIL', 'PHO']\n",
    "    for team in playoff_contenders:\n",
    "        features_df[f'Is_Team_{team}'] = (features_df['Tm'] == team).astype(int)\n",
    "    \n",
    "    # 9. SELECT FINAL PRE-GAME FEATURES FOR PLAYOFFS\n",
    "    pregame_features = [\n",
    "        # Player regular season performance\n",
    "        'RS_Player_MP', 'RS_Player_PTS', 'RS_Player_FGA', 'RS_Player_TRB', 'RS_Player_AST',\n",
    "        'RS_Player_FG_PCT', 'RS_Player_3P_PCT',\n",
    "        \n",
    "        # Player role indicators\n",
    "        'Is_Star_Player', 'Is_Starter', 'Is_Shooter', 'Scoring_Volume',\n",
    "        \n",
    "        # Team context\n",
    "        'RS_Team_Win_Rate', 'RS_Opp_Defensive_Strength',\n",
    "        \n",
    "        # Playoff matchup context\n",
    "        'Playoff_Team_Advantage', 'Expected_Scoring_Environment'\n",
    "    ]\n",
    "    \n",
    "    # Add team indicators that exist\n",
    "    team_indicators = [col for col in features_df.columns if col.startswith('Is_Team_')]\n",
    "    pregame_features.extend(team_indicators)\n",
    "    \n",
    "    # Clean data and return\n",
    "    available_features = [f for f in pregame_features if f in features_df.columns]\n",
    "    features_df = features_df.dropna(subset=available_features + ['PTS'])\n",
    "    \n",
    "    X = features_df[available_features]\n",
    "    y = features_df['PTS']\n",
    "    \n",
    "    return X, y, features_df\n",
    "\n",
    "# Apply playoff pre-game feature engineering\n",
    "X_playoffs, y_playoffs, playoffs_df = prepare_playoffs_pregame_features(playoffs, regular_season)\n",
    "\n",
    "print(f\"🎯 PLAYOFF PRE-GAME FEATURES:\")\n",
    "print(f\"Features: {X_playoffs.columns.tolist()}\")\n",
    "print(f\"Playoff predictions: {X_playoffs.shape[0]} players\")\n",
    "print(f\"Feature count: {X_playoffs.shape[1]}\")"
   ]
  },
  {
   "cell_type": "markdown",
   "metadata": {},
   "source": [
    "## 4. Training Data Preparation"
   ]
  },
  {
   "cell_type": "code",
   "execution_count": 73,
   "metadata": {},
   "outputs": [
    {
     "name": "stdout",
     "output_type": "stream",
     "text": [
      "📚 TRAINING DATA (Regular Season):\n",
      "Training features: ['Player_Avg_PTS', 'Team_Win_Rate', 'Opp_Strength', 'Is_Star', 'Team_Advantage']\n",
      "Training samples: 26331\n",
      "\n",
      "🔄 ALIGNED FEATURES FOR PLAYOFFS PREDICTION:\n",
      "Aligned features: ['Player_Avg_PTS', 'Team_Win_Rate', 'Opp_Strength', 'Is_Star', 'Team_Advantage']\n",
      "Training samples: 26331\n",
      "Playoff predictions: 1804\n"
     ]
    }
   ],
   "source": [
    "# For training, we'll use regular season data with the same feature engineering\n",
    "# This simulates using historical regular season games to build our model\n",
    "\n",
    "# Create a simple version for training (since we have limited regular season data)\n",
    "def prepare_training_features(train_data):\n",
    "    \"\"\"Prepare training features from regular season data\"\"\"\n",
    "    features_df = train_data.copy()\n",
    "    \n",
    "    # Basic team performance\n",
    "    team_stats = features_df.groupby('Tm')['Res'].apply(lambda x: (x == 'W').mean())\n",
    "    features_df['Team_Win_Rate'] = features_df['Tm'].map(team_stats).fillna(0.5)\n",
    "    \n",
    "    # Basic opponent strength\n",
    "    opp_stats = features_df.groupby('Opp')['Res'].apply(lambda x: (x == 'L').mean())\n",
    "    features_df['Opp_Strength'] = features_df['Opp'].map(opp_stats).fillna(0.5)\n",
    "    \n",
    "    # Player averages (simplified for limited data)\n",
    "    player_avg_pts = features_df.groupby('Player')['PTS'].mean()\n",
    "    features_df['Player_Avg_PTS'] = features_df['Player'].map(player_avg_pts)\n",
    "    \n",
    "    # Role indicators\n",
    "    features_df['Is_Star'] = (features_df['Player_Avg_PTS'] >= 15).astype(int)\n",
    "    \n",
    "    # Matchup context\n",
    "    features_df['Team_Advantage'] = features_df['Team_Win_Rate'] - features_df['Opp_Strength']\n",
    "    \n",
    "    # Select training features (subset of playoff features)\n",
    "    training_features = ['Player_Avg_PTS', 'Team_Win_Rate', 'Opp_Strength', 'Is_Star', 'Team_Advantage']\n",
    "    \n",
    "    features_df = features_df.dropna(subset=training_features + ['PTS'])\n",
    "    \n",
    "    X = features_df[training_features]\n",
    "    y = features_df['PTS']\n",
    "    \n",
    "    return X, y, features_df\n",
    "\n",
    "# Prepare training data from regular season\n",
    "X_train, y_train, train_df = prepare_training_features(regular_season)\n",
    "\n",
    "print(f\"📚 TRAINING DATA (Regular Season):\")\n",
    "print(f\"Training features: {X_train.columns.tolist()}\")\n",
    "print(f\"Training samples: {X_train.shape[0]}\")\n",
    "\n",
    "# Align features between training and playoff data\n",
    "# Use only features that exist in both datasets\n",
    "common_features = []\n",
    "\n",
    "# Map playoff features to training features\n",
    "feature_mapping = {\n",
    "    'RS_Player_PTS': 'Player_Avg_PTS',\n",
    "    'RS_Team_Win_Rate': 'Team_Win_Rate',\n",
    "    'RS_Opp_Defensive_Strength': 'Opp_Strength',\n",
    "    'Is_Star_Player': 'Is_Star',\n",
    "    'Playoff_Team_Advantage': 'Team_Advantage'\n",
    "}\n",
    "\n",
    "# Create aligned datasets\n",
    "X_train_aligned = X_train[list(feature_mapping.values())]\n",
    "X_playoffs_aligned = X_playoffs[list(feature_mapping.keys())]\n",
    "X_playoffs_aligned.columns = list(feature_mapping.values())  # Rename to match training\n",
    "\n",
    "print(f\"\\n🔄 ALIGNED FEATURES FOR PLAYOFFS PREDICTION:\")\n",
    "print(f\"Aligned features: {X_train_aligned.columns.tolist()}\")\n",
    "print(f\"Training samples: {X_train_aligned.shape[0]}\")\n",
    "print(f\"Playoff predictions: {X_playoffs_aligned.shape[0]}\")"
   ]
  },
  {
   "cell_type": "markdown",
   "metadata": {},
   "source": [
    "## 5. Model Training for Playoffs Prediction"
   ]
  },
  {
   "cell_type": "code",
   "execution_count": 74,
   "metadata": {},
   "outputs": [
    {
     "name": "stdout",
     "output_type": "stream",
     "text": [
      "🤖 Training models for PLAYOFFS prediction...\n",
      "\n"
     ]
    }
   ],
   "source": [
    "# Scale features\n",
    "scaler = StandardScaler()\n",
    "X_train_scaled = scaler.fit_transform(X_train_aligned)\n",
    "X_playoffs_scaled = scaler.transform(X_playoffs_aligned)\n",
    "\n",
    "# Store models and predictions\n",
    "models = {}\n",
    "predictions = {}\n",
    "model_scores = {}\n",
    "\n",
    "print(\"🤖 Training models for PLAYOFFS prediction...\\n\")"
   ]
  },
  {
   "cell_type": "code",
   "execution_count": 75,
   "metadata": {},
   "outputs": [
    {
     "name": "stdout",
     "output_type": "stream",
     "text": [
      "1. Training Random Forest for Playoffs...\n",
      "Random Forest (Playoffs) - RMSE: 6.265, MAE: 4.911, R²: 0.558\n"
     ]
    }
   ],
   "source": [
    "# 1. Random Forest (good for limited data)\n",
    "print(\"1. Training Random Forest for Playoffs...\")\n",
    "rf_model = RandomForestRegressor(n_estimators=30, random_state=42, max_depth=7)\n",
    "rf_model.fit(X_train_aligned, y_train)\n",
    "rf_pred = rf_model.predict(X_playoffs_aligned)\n",
    "\n",
    "models['Random Forest'] = rf_model\n",
    "predictions['Random Forest'] = rf_pred\n",
    "\n",
    "rf_mse = mean_squared_error(y_playoffs, rf_pred)\n",
    "rf_mae = mean_absolute_error(y_playoffs, rf_pred)\n",
    "rf_r2 = r2_score(y_playoffs, rf_pred)\n",
    "\n",
    "model_scores['Random Forest'] = {\n",
    "    'MSE': rf_mse,\n",
    "    'MAE': rf_mae,\n",
    "    'RMSE': np.sqrt(rf_mse),\n",
    "    'R2': rf_r2\n",
    "}\n",
    "\n",
    "print(f\"Random Forest (Playoffs) - RMSE: {np.sqrt(rf_mse):.3f}, MAE: {rf_mae:.3f}, R²: {rf_r2:.3f}\")"
   ]
  },
  {
   "cell_type": "code",
   "execution_count": 76,
   "metadata": {},
   "outputs": [
    {
     "name": "stdout",
     "output_type": "stream",
     "text": [
      "2. Training TensorFlow Neural Network for Playoffs...\n",
      "Epoch 1/500\n",
      "\u001b[1m330/330\u001b[0m \u001b[32m━━━━━━━━━━━━━━━━━━━━\u001b[0m\u001b[37m\u001b[0m \u001b[1m2s\u001b[0m 3ms/step - loss: 89.7932 - mae: 6.8937 - val_loss: 40.9262 - val_mae: 4.8379\n",
      "Epoch 2/500\n",
      "\u001b[1m330/330\u001b[0m \u001b[32m━━━━━━━━━━━━━━━━━━━━\u001b[0m\u001b[37m\u001b[0m \u001b[1m1s\u001b[0m 2ms/step - loss: 37.1898 - mae: 4.6233 - val_loss: 40.6328 - val_mae: 4.8035\n",
      "Epoch 3/500\n",
      "\u001b[1m330/330\u001b[0m \u001b[32m━━━━━━━━━━━━━━━━━━━━\u001b[0m\u001b[37m\u001b[0m \u001b[1m1s\u001b[0m 2ms/step - loss: 36.0530 - mae: 4.5726 - val_loss: 40.2223 - val_mae: 4.7866\n",
      "Epoch 4/500\n",
      "\u001b[1m330/330\u001b[0m \u001b[32m━━━━━━━━━━━━━━━━━━━━\u001b[0m\u001b[37m\u001b[0m \u001b[1m1s\u001b[0m 2ms/step - loss: 36.3563 - mae: 4.5876 - val_loss: 40.4362 - val_mae: 4.7929\n",
      "Epoch 5/500\n",
      "\u001b[1m330/330\u001b[0m \u001b[32m━━━━━━━━━━━━━━━━━━━━\u001b[0m\u001b[37m\u001b[0m \u001b[1m1s\u001b[0m 2ms/step - loss: 36.2475 - mae: 4.5676 - val_loss: 40.4803 - val_mae: 4.7979\n",
      "Epoch 6/500\n",
      "\u001b[1m330/330\u001b[0m \u001b[32m━━━━━━━━━━━━━━━━━━━━\u001b[0m\u001b[37m\u001b[0m \u001b[1m1s\u001b[0m 2ms/step - loss: 36.3546 - mae: 4.5699 - val_loss: 40.3957 - val_mae: 4.7896\n",
      "Epoch 7/500\n",
      "\u001b[1m330/330\u001b[0m \u001b[32m━━━━━━━━━━━━━━━━━━━━\u001b[0m\u001b[37m\u001b[0m \u001b[1m1s\u001b[0m 2ms/step - loss: 36.3519 - mae: 4.5868 - val_loss: 39.9347 - val_mae: 4.7768\n",
      "Epoch 8/500\n",
      "\u001b[1m330/330\u001b[0m \u001b[32m━━━━━━━━━━━━━━━━━━━━\u001b[0m\u001b[37m\u001b[0m \u001b[1m1s\u001b[0m 2ms/step - loss: 35.9301 - mae: 4.5487 - val_loss: 40.3837 - val_mae: 4.7913\n",
      "Epoch 9/500\n",
      "\u001b[1m330/330\u001b[0m \u001b[32m━━━━━━━━━━━━━━━━━━━━\u001b[0m\u001b[37m\u001b[0m \u001b[1m1s\u001b[0m 2ms/step - loss: 36.0130 - mae: 4.5460 - val_loss: 40.1734 - val_mae: 4.7854\n",
      "Epoch 10/500\n",
      "\u001b[1m330/330\u001b[0m \u001b[32m━━━━━━━━━━━━━━━━━━━━\u001b[0m\u001b[37m\u001b[0m \u001b[1m1s\u001b[0m 2ms/step - loss: 35.6206 - mae: 4.5385 - val_loss: 40.3352 - val_mae: 4.7919\n",
      "Epoch 11/500\n",
      "\u001b[1m330/330\u001b[0m \u001b[32m━━━━━━━━━━━━━━━━━━━━\u001b[0m\u001b[37m\u001b[0m \u001b[1m1s\u001b[0m 2ms/step - loss: 36.0650 - mae: 4.5561 - val_loss: 40.0096 - val_mae: 4.7802\n",
      "Epoch 12/500\n",
      "\u001b[1m330/330\u001b[0m \u001b[32m━━━━━━━━━━━━━━━━━━━━\u001b[0m\u001b[37m\u001b[0m \u001b[1m1s\u001b[0m 2ms/step - loss: 35.3563 - mae: 4.5207 - val_loss: 40.2336 - val_mae: 4.7855\n",
      "Epoch 13/500\n",
      "\u001b[1m330/330\u001b[0m \u001b[32m━━━━━━━━━━━━━━━━━━━━\u001b[0m\u001b[37m\u001b[0m \u001b[1m1s\u001b[0m 2ms/step - loss: 35.3230 - mae: 4.5107 - val_loss: 40.3537 - val_mae: 4.7913\n",
      "Epoch 14/500\n",
      "\u001b[1m330/330\u001b[0m \u001b[32m━━━━━━━━━━━━━━━━━━━━\u001b[0m\u001b[37m\u001b[0m \u001b[1m1s\u001b[0m 2ms/step - loss: 35.5402 - mae: 4.5304 - val_loss: 40.3054 - val_mae: 4.7898\n",
      "Epoch 15/500\n",
      "\u001b[1m330/330\u001b[0m \u001b[32m━━━━━━━━━━━━━━━━━━━━\u001b[0m\u001b[37m\u001b[0m \u001b[1m1s\u001b[0m 2ms/step - loss: 35.8076 - mae: 4.5567 - val_loss: 40.4273 - val_mae: 4.7955\n",
      "Epoch 16/500\n",
      "\u001b[1m330/330\u001b[0m \u001b[32m━━━━━━━━━━━━━━━━━━━━\u001b[0m\u001b[37m\u001b[0m \u001b[1m1s\u001b[0m 2ms/step - loss: 35.8025 - mae: 4.5432 - val_loss: 40.1227 - val_mae: 4.7827\n",
      "Epoch 17/500\n",
      "\u001b[1m330/330\u001b[0m \u001b[32m━━━━━━━━━━━━━━━━━━━━\u001b[0m\u001b[37m\u001b[0m \u001b[1m1s\u001b[0m 2ms/step - loss: 35.5391 - mae: 4.5294 - val_loss: 40.1566 - val_mae: 4.7845\n",
      "Epoch 18/500\n",
      "\u001b[1m330/330\u001b[0m \u001b[32m━━━━━━━━━━━━━━━━━━━━\u001b[0m\u001b[37m\u001b[0m \u001b[1m1s\u001b[0m 2ms/step - loss: 35.6384 - mae: 4.5303 - val_loss: 40.0201 - val_mae: 4.7796\n",
      "Epoch 19/500\n",
      "\u001b[1m330/330\u001b[0m \u001b[32m━━━━━━━━━━━━━━━━━━━━\u001b[0m\u001b[37m\u001b[0m \u001b[1m1s\u001b[0m 2ms/step - loss: 35.6289 - mae: 4.5386 - val_loss: 40.0495 - val_mae: 4.7776\n",
      "Epoch 20/500\n",
      "\u001b[1m330/330\u001b[0m \u001b[32m━━━━━━━━━━━━━━━━━━━━\u001b[0m\u001b[37m\u001b[0m \u001b[1m1s\u001b[0m 2ms/step - loss: 35.4601 - mae: 4.5337 - val_loss: 39.9413 - val_mae: 4.7743\n",
      "Epoch 21/500\n",
      "\u001b[1m330/330\u001b[0m \u001b[32m━━━━━━━━━━━━━━━━━━━━\u001b[0m\u001b[37m\u001b[0m \u001b[1m1s\u001b[0m 2ms/step - loss: 35.3085 - mae: 4.5212 - val_loss: 40.2649 - val_mae: 4.7881\n",
      "Epoch 22/500\n",
      "\u001b[1m330/330\u001b[0m \u001b[32m━━━━━━━━━━━━━━━━━━━━\u001b[0m\u001b[37m\u001b[0m \u001b[1m1s\u001b[0m 2ms/step - loss: 35.6719 - mae: 4.5342 - val_loss: 40.1402 - val_mae: 4.7829\n",
      "Epoch 23/500\n",
      "\u001b[1m330/330\u001b[0m \u001b[32m━━━━━━━━━━━━━━━━━━━━\u001b[0m\u001b[37m\u001b[0m \u001b[1m1s\u001b[0m 2ms/step - loss: 35.3778 - mae: 4.5306 - val_loss: 39.9541 - val_mae: 4.7775\n",
      "Epoch 24/500\n",
      "\u001b[1m330/330\u001b[0m \u001b[32m━━━━━━━━━━━━━━━━━━━━\u001b[0m\u001b[37m\u001b[0m \u001b[1m1s\u001b[0m 2ms/step - loss: 35.1897 - mae: 4.5139 - val_loss: 40.4388 - val_mae: 4.7970\n",
      "Epoch 25/500\n",
      "\u001b[1m330/330\u001b[0m \u001b[32m━━━━━━━━━━━━━━━━━━━━\u001b[0m\u001b[37m\u001b[0m \u001b[1m1s\u001b[0m 2ms/step - loss: 35.3089 - mae: 4.5168 - val_loss: 40.2495 - val_mae: 4.7871\n",
      "Epoch 26/500\n",
      "\u001b[1m330/330\u001b[0m \u001b[32m━━━━━━━━━━━━━━━━━━━━\u001b[0m\u001b[37m\u001b[0m \u001b[1m1s\u001b[0m 2ms/step - loss: 35.3514 - mae: 4.5208 - val_loss: 40.1180 - val_mae: 4.7839\n",
      "Epoch 27/500\n",
      "\u001b[1m330/330\u001b[0m \u001b[32m━━━━━━━━━━━━━━━━━━━━\u001b[0m\u001b[37m\u001b[0m \u001b[1m1s\u001b[0m 2ms/step - loss: 35.3557 - mae: 4.5269 - val_loss: 40.4472 - val_mae: 4.7969\n",
      "Epoch 27: early stopping\n",
      "Restoring model weights from the end of the best epoch: 7.\n",
      "TensorFlow NN (Playoffs) - RMSE: 6.202, MAE: 4.820, R²: 0.567\n",
      "Training epochs: 27\n"
     ]
    }
   ],
   "source": [
    "# 2. TensorFlow Neural Network (with regularization for small data)\n",
    "print(\"2. Training TensorFlow Neural Network for Playoffs...\")\n",
    "\n",
    "# Improved Neural Network for 26K samples\n",
    "tf.random.set_seed(42)\n",
    "\n",
    "nn_model = keras.Sequential([\n",
    "    layers.Dense(100, activation='relu', input_shape=(X_train_scaled.shape[1],)),\n",
    "    layers.Dropout(0.3),  # ← ADD THIS\n",
    "    layers.Dense(50, activation='relu'),\n",
    "    layers.Dropout(0.2),  # ← ADD THIS\n",
    "    layers.Dense(1)\n",
    "])\n",
    "\n",
    "nn_model.compile(\n",
    "    optimizer=keras.optimizers.Adam(learning_rate=0.001),\n",
    "    loss='mse',\n",
    "    metrics=['mae']\n",
    ")\n",
    "\n",
    "early_stopping = EarlyStopping(\n",
    "    monitor='val_loss',\n",
    "    patience=20,  # ← REDUCE FROM 50\n",
    "    restore_best_weights=True,\n",
    "    verbose=1  # ← ADD FOR MONITORING\n",
    ")\n",
    "\n",
    "history = nn_model.fit(\n",
    "    X_train_scaled, y_train,\n",
    "    validation_split=0.2,\n",
    "    epochs=500,  # ← REDUCE FROM 1000\n",
    "    batch_size=64,  # ← INCREASE FROM 16\n",
    "    callbacks=[early_stopping],\n",
    "    verbose=1  # ← ADD FOR MONITORING\n",
    ")\n",
    "\n",
    "\n",
    "nn_pred = nn_model.predict(X_playoffs_scaled, verbose=0).flatten()\n",
    "\n",
    "models['TensorFlow NN'] = nn_model\n",
    "predictions['TensorFlow NN'] = nn_pred\n",
    "\n",
    "nn_mse = mean_squared_error(y_playoffs, nn_pred)\n",
    "nn_mae = mean_absolute_error(y_playoffs, nn_pred)\n",
    "nn_r2 = r2_score(y_playoffs, nn_pred)\n",
    "\n",
    "model_scores['TensorFlow NN'] = {\n",
    "    'MSE': nn_mse,\n",
    "    'MAE': nn_mae,\n",
    "    'RMSE': np.sqrt(nn_mse),\n",
    "    'R2': nn_r2\n",
    "}\n",
    "\n",
    "print(f\"TensorFlow NN (Playoffs) - RMSE: {np.sqrt(nn_mse):.3f}, MAE: {nn_mae:.3f}, R²: {nn_r2:.3f}\")\n",
    "print(f\"Training epochs: {len(history.history['loss'])}\")"
   ]
  },
  {
   "cell_type": "code",
   "execution_count": 77,
   "metadata": {},
   "outputs": [
    {
     "name": "stdout",
     "output_type": "stream",
     "text": [
      "3. Training Linear Regression for Playoffs...\n",
      "Linear Regression (Playoffs) - RMSE: 6.284, MAE: 4.910, R²: 0.555\n"
     ]
    }
   ],
   "source": [
    "# 3. Linear Regression (baseline)\n",
    "print(\"3. Training Linear Regression for Playoffs...\")\n",
    "lr_model = LinearRegression()\n",
    "lr_model.fit(X_train_scaled, y_train)\n",
    "lr_pred = lr_model.predict(X_playoffs_scaled)\n",
    "\n",
    "models['Linear Regression'] = lr_model\n",
    "predictions['Linear Regression'] = lr_pred\n",
    "\n",
    "lr_mse = mean_squared_error(y_playoffs, lr_pred)\n",
    "lr_mae = mean_absolute_error(y_playoffs, lr_pred)\n",
    "lr_r2 = r2_score(y_playoffs, lr_pred)\n",
    "\n",
    "model_scores['Linear Regression'] = {\n",
    "    'MSE': lr_mse,\n",
    "    'MAE': lr_mae,\n",
    "    'RMSE': np.sqrt(lr_mse),\n",
    "    'R2': lr_r2\n",
    "}\n",
    "\n",
    "print(f\"Linear Regression (Playoffs) - RMSE: {np.sqrt(lr_mse):.3f}, MAE: {lr_mae:.3f}, R²: {lr_r2:.3f}\")"
   ]
  },
  {
   "cell_type": "markdown",
   "metadata": {},
   "source": [
    "## 6. Playoffs Prediction Performance Analysis"
   ]
  },
  {
   "cell_type": "code",
   "execution_count": 78,
   "metadata": {},
   "outputs": [
    {
     "name": "stdout",
     "output_type": "stream",
     "text": [
      "📊 PLAYOFFS PREDICTION PERFORMANCE:\n",
      "=============================================\n",
      "                      MSE    MAE   RMSE     R2\n",
      "Random Forest      39.251  4.911  6.265  0.558\n",
      "TensorFlow NN      38.465  4.820  6.202  0.567\n",
      "Linear Regression  39.490  4.910  6.284  0.555\n",
      "\n",
      "🏆 Best model for playoffs: TensorFlow NN (R² = 0.567)\n",
      "\n",
      "⚠️  Note: Lower performance is expected when predicting playoffs from regular season!\n",
      "Playoffs involve higher intensity, different rotations, and pressure situations.\n"
     ]
    }
   ],
   "source": [
    "# Performance comparison\n",
    "print(\"📊 PLAYOFFS PREDICTION PERFORMANCE:\")\n",
    "print(\"=\" * 45)\n",
    "\n",
    "results_df = pd.DataFrame(model_scores).T\n",
    "print(results_df.round(3))\n",
    "\n",
    "best_model = results_df['R2'].idxmax()\n",
    "print(f\"\\n🏆 Best model for playoffs: {best_model} (R² = {results_df.loc[best_model, 'R2']:.3f})\")\n",
    "\n",
    "print(f\"\\n⚠️  Note: Lower performance is expected when predicting playoffs from regular season!\")\n",
    "print(f\"Playoffs involve higher intensity, different rotations, and pressure situations.\")"
   ]
  },
  {
   "cell_type": "code",
   "execution_count": 80,
   "metadata": {},
   "outputs": [
    {
     "name": "stdout",
     "output_type": "stream",
     "text": [
      "🎯 FEATURE IMPORTANCE FOR PLAYOFFS PREDICTION:\n",
      "==================================================\n",
      "Player_Avg_PTS      : 0.967\n",
      "Team_Advantage      : 0.017\n",
      "Opp_Strength        : 0.012\n",
      "Team_Win_Rate       : 0.005\n",
      "Is_Star             : 0.000\n"
     ]
    },
    {
     "data": {
      "image/png": "[encoded data removed]",
      "text/plain": [
       "<Figure size 1000x600 with 1 Axes>"
      ]
     },
     "metadata": {},
     "output_type": "display_data"
    }
   ],
   "source": [
    "# Feature importance for playoffs prediction\n",
    "print(\"🎯 FEATURE IMPORTANCE FOR PLAYOFFS PREDICTION:\")\n",
    "print(\"=\" * 50)\n",
    "\n",
    "feature_importance = pd.DataFrame({\n",
    "    'feature': X_train_aligned.columns,\n",
    "    'importance': rf_model.feature_importances_\n",
    "}).sort_values('importance', ascending=False)\n",
    "\n",
    "for idx, row in feature_importance.iterrows():\n",
    "    print(f\"{row['feature']:20s}: {row['importance']:.3f}\")\n",
    "\n",
    "# Visualize feature importance\n",
    "plt.figure(figsize=(10, 6))\n",
    "plt.barh(feature_importance['feature'], feature_importance['importance'], color='gold', alpha=0.8)\n",
    "plt.title('Feature Importance for Playoffs Prediction')\n",
    "plt.xlabel('Importance Score')\n",
    "plt.gca().invert_yaxis()\n",
    "plt.tight_layout()\n",
    "plt.show()"
   ]
  },
  {
   "cell_type": "markdown",
   "metadata": {},
   "source": [
    "## 7. Playoffs Prediction Results"
   ]
  },
  {
   "cell_type": "code",
   "execution_count": 17,
   "metadata": {},
   "outputs": [
    {
     "name": "stdout",
     "output_type": "stream",
     "text": [
      "🏀 SAMPLE PLAYOFFS PREDICTIONS:\n",
      "========================================\n",
      "                   Player Team Opponent  Actual_Playoff_Points  RF_Predicted  \\\n",
      "0             Jalen Duren  DET      NYK                      7          11.5   \n",
      "1          Taurean Prince  MIL      IND                      0           8.0   \n",
      "2     Dorian Finney-Smith  LAL      MIN                      3           8.4   \n",
      "3          Leonard Miller  MIN      LAL                      0           1.6   \n",
      "4           Peyton Watson  DEN      LAC                      6           7.9   \n",
      "5           Malik Beasley  DET      NYK                     20          16.5   \n",
      "6   Giannis Antetokounmpo  MIL      IND                     36          30.0   \n",
      "7          T.J. McConnell  IND      MIL                     11           8.8   \n",
      "8              Obi Toppin  IND      MIL                      6          10.2   \n",
      "9             Rudy Gobert  MIN      LAL                      2          11.6   \n",
      "10               Naz Reid  MIN      LAL                     23          14.0   \n",
      "11          Dalton Knecht  LAL      MIN                      5           8.7   \n",
      "12        Christian Braun  DEN      LAC                     11          15.3   \n",
      "13        Cade Cunningham  DET      NYK                     21          27.1   \n",
      "14          Thomas Bryant  IND      MIL                      6           6.3   \n",
      "\n",
      "    NN_Predicted  LR_Predicted  RF_Error  NN_Error  LR_Error  \n",
      "0           11.5          11.5       4.5       4.5       4.5  \n",
      "1            8.1           7.9       8.0       8.1       7.9  \n",
      "2            8.5           8.4       5.4       5.5       5.4  \n",
      "3            1.6           1.3       1.6       1.6       1.3  \n",
      "4            8.0           7.8       1.9       2.0       1.8  \n",
      "5           15.4          16.1       3.5       4.6       3.9  \n",
      "6           30.1          30.1       6.0       5.9       5.9  \n",
      "7            9.0           8.9       2.2       2.0       2.1  \n",
      "8           10.4          10.3       4.2       4.4       4.3  \n",
      "9           11.7          11.8       9.6       9.7       9.8  \n",
      "10          14.0          13.9       9.0       9.0       9.1  \n",
      "11           8.8           8.8       3.7       3.8       3.8  \n",
      "12          14.8          15.2       4.3       3.8       4.2  \n",
      "13          25.5          25.9       6.1       4.5       4.9  \n",
      "14           6.5           6.3       0.3       0.5       0.3  \n"
     ]
    }
   ],
   "source": [
    "# Create detailed playoff predictions\n",
    "playoffs_results = pd.DataFrame({\n",
    "    'Player': playoffs_df['Player'].reset_index(drop=True),\n",
    "    'Team': playoffs_df['Tm'].reset_index(drop=True),\n",
    "    'Opponent': playoffs_df['Opp'].reset_index(drop=True),\n",
    "    'Actual_Playoff_Points': y_playoffs.reset_index(drop=True),\n",
    "    'RF_Predicted': predictions['Random Forest'],\n",
    "    'NN_Predicted': predictions['TensorFlow NN'],\n",
    "    'LR_Predicted': predictions['Linear Regression']\n",
    "})\n",
    "\n",
    "# Add prediction errors\n",
    "playoffs_results['RF_Error'] = abs(playoffs_results['Actual_Playoff_Points'] - playoffs_results['RF_Predicted'])\n",
    "playoffs_results['NN_Error'] = abs(playoffs_results['Actual_Playoff_Points'] - playoffs_results['NN_Predicted'])\n",
    "playoffs_results['LR_Error'] = abs(playoffs_results['Actual_Playoff_Points'] - playoffs_results['LR_Predicted'])\n",
    "\n",
    "print(\"🏀 SAMPLE PLAYOFFS PREDICTIONS:\")\n",
    "print(\"=\" * 40)\n",
    "print(playoffs_results.head(15).round(1))"
   ]
  },
  {
   "cell_type": "code",
   "execution_count": 81,
   "metadata": {},
   "outputs": [
    {
     "name": "stdout",
     "output_type": "stream",
     "text": [
      "🎯 PLAYOFFS PREDICTION ACCURACY:\n",
      "========================================\n",
      "\n",
      "Random Forest:\n",
      "  Within 5 points:  60.6%\n",
      "  Within 10 points: 89.1%\n",
      "  Within 15 points: 97.6%\n",
      "\n",
      "TensorFlow NN:\n",
      "  Within 5 points:  61.1%\n",
      "  Within 10 points: 89.5%\n",
      "  Within 15 points: 97.7%\n",
      "\n",
      "Linear Regression:\n",
      "  Within 5 points:  60.9%\n",
      "  Within 10 points: 89.0%\n",
      "  Within 15 points: 97.6%\n",
      "\n",
      "✅ BEST PLAYOFFS PREDICTIONS:\n",
      "                  Player Team  Actual_Playoff_Points  RF_Predicted  RF_Error\n",
      "533   Isaiah Hartenstein  OKC                     11          11.0       0.0\n",
      "789          Mike Conley  MIN                      8           8.0       0.0\n",
      "419        Anthony Black  ORL                      9           9.0       0.0\n",
      "665            Dean Wade  CLE                      5           5.0       0.0\n",
      "1044       Cason Wallace  OKC                      8           8.0       0.0\n",
      "\n",
      "❌ MOST CHALLENGING PLAYOFFS PREDICTIONS:\n",
      "               Player Team  Actual_Playoff_Points  RF_Predicted  RF_Error\n",
      "450    Gary Trent Jr.  MIL                     37          11.8      25.2\n",
      "575    Damian Lillard  MIL                      0          24.9      24.9\n",
      "983  Donovan Mitchell  CLE                     48          24.9      23.1\n",
      "758      Jamal Murray  DEN                     43          20.6      22.4\n",
      "923       Buddy Hield  GSW                     33          10.8      22.2\n"
     ]
    }
   ],
   "source": [
    "# Accuracy analysis for playoff predictions\n",
    "print(\"🎯 PLAYOFFS PREDICTION ACCURACY:\")\n",
    "print(\"=\" * 40)\n",
    "\n",
    "for model_name, pred in predictions.items():\n",
    "    within_5 = np.mean(np.abs(y_playoffs - pred) <= 5.0) * 100\n",
    "    within_10 = np.mean(np.abs(y_playoffs - pred) <= 10.0) * 100\n",
    "    within_15 = np.mean(np.abs(y_playoffs - pred) <= 15.0) * 100\n",
    "    \n",
    "    print(f\"\\n{model_name}:\")\n",
    "    print(f\"  Within 5 points:  {within_5:.1f}%\")\n",
    "    print(f\"  Within 10 points: {within_10:.1f}%\")\n",
    "    print(f\"  Within 15 points: {within_15:.1f}%\")\n",
    "\n",
    "# Identify best and worst predictions\n",
    "best_predictions = playoffs_results.nsmallest(5, 'RF_Error')[['Player', 'Team', 'Actual_Playoff_Points', 'RF_Predicted', 'RF_Error']]\n",
    "worst_predictions = playoffs_results.nlargest(5, 'RF_Error')[['Player', 'Team', 'Actual_Playoff_Points', 'RF_Predicted', 'RF_Error']]\n",
    "\n",
    "print(f\"\\n✅ BEST PLAYOFFS PREDICTIONS:\")\n",
    "print(best_predictions.round(1))\n",
    "\n",
    "print(f\"\\n❌ MOST CHALLENGING PLAYOFFS PREDICTIONS:\")\n",
    "print(worst_predictions.round(1))"
   ]
  },
  {
   "cell_type": "markdown",
   "metadata": {},
   "source": [
    "## 8. Visualization: Regular Season vs Playoffs Performance"
   ]
  },
  {
   "cell_type": "code",
   "execution_count": 82,
   "metadata": {},
   "outputs": [
    {
     "data": {
      "image/png": "[encoded data removed]",
      "text/plain": [
       "<Figure size 1000x600 with 1 Axes>"
      ]
     },
     "metadata": {},
     "output_type": "display_data"
    },
    {
     "name": "stdout",
     "output_type": "stream",
     "text": [
      "📊 Common players analysis: 219 players\n",
      "Correlation between regular season and playoff performance: 0.910\n"
     ]
    }
   ],
   "source": [
    "# Compare regular season vs playoff performance for common players\n",
    "common_players_list = list(set(regular_season['Player'].unique()) & set(playoffs['Player'].unique()))\n",
    "\n",
    "if len(common_players_list) > 0:\n",
    "    # Get regular season averages for common players\n",
    "    rs_avg = regular_season[regular_season['Player'].isin(common_players_list)].groupby('Player')['PTS'].mean()\n",
    "    playoff_actual = playoffs[playoffs['Player'].isin(common_players_list)].groupby('Player')['PTS'].mean()\n",
    "    \n",
    "    comparison_df = pd.DataFrame({\n",
    "        'Regular_Season_Avg': rs_avg,\n",
    "        'Playoff_Actual': playoff_actual\n",
    "    }).dropna()\n",
    "    \n",
    "    if len(comparison_df) > 0:\n",
    "        plt.figure(figsize=(10, 6))\n",
    "        plt.scatter(comparison_df['Regular_Season_Avg'], comparison_df['Playoff_Actual'], alpha=0.7, s=60)\n",
    "        \n",
    "        # Add perfect correlation line\n",
    "        max_val = max(comparison_df['Regular_Season_Avg'].max(), comparison_df['Playoff_Actual'].max())\n",
    "        plt.plot([0, max_val], [0, max_val], 'r--', alpha=0.8, label='Perfect Correlation')\n",
    "        \n",
    "        plt.xlabel('Regular Season Points Average')\n",
    "        plt.ylabel('Playoff Points Actual')\n",
    "        plt.title('Regular Season vs Playoff Performance (Common Players)')\n",
    "        plt.legend()\n",
    "        plt.grid(True, alpha=0.3)\n",
    "        plt.tight_layout()\n",
    "        plt.show()\n",
    "        \n",
    "        print(f\"📊 Common players analysis: {len(comparison_df)} players\")\n",
    "        print(f\"Correlation between regular season and playoff performance: {comparison_df.corr().iloc[0,1]:.3f}\")\n",
    "    else:\n",
    "        print(\"No common players with sufficient data for comparison\")\n",
    "else:\n",
    "    print(\"No common players between regular season and playoff datasets\")\n",
    "    print(\"This represents the challenge: predicting new playoff performances!\")"
   ]
  },
  {
   "cell_type": "markdown",
   "metadata": {},
   "source": [
    "## 9. Export Playoff Predictions"
   ]
  },
  {
   "cell_type": "code",
   "execution_count": 83,
   "metadata": {},
   "outputs": [
    {
     "name": "stderr",
     "output_type": "stream",
     "text": [
      "WARNING:absl:You are saving your model as an HDF5 file via `model.save()` or `keras.saving.save_model(model)`. This file format is considered legacy. We recommend using instead the native Keras format, e.g. `model.save('my_model.keras')` or `keras.saving.save_model(model, 'my_model.keras')`. \n"
     ]
    },
    {
     "name": "stdout",
     "output_type": "stream",
     "text": [
      "💾 TensorFlow model saved as 'playoffs_prediction_model.h5'\n",
      "💾 Files exported:\n",
      "- nba_playoffs_predictions.csv\n",
      "- playoffs_feature_importance.csv\n",
      "- playoffs_model_performance.csv\n",
      "\n",
      "🏀 PLAYOFFS PREDICTION SUMMARY:\n",
      "Using regular season data to predict playoff performance\n",
      "Best Model: TensorFlow NN (R² = 0.567)\n",
      "Total playoff predictions: 1804\n",
      "\n",
      "⭐ Key Insight: Playoff prediction is inherently challenging!\n",
      "Players often perform differently under playoff pressure.\n"
     ]
    }
   ],
   "source": [
    "# Export playoff prediction results\n",
    "playoffs_results.to_csv('nba_playoffs_predictions.csv', index=False)\n",
    "feature_importance.to_csv('playoffs_feature_importance.csv', index=False)\n",
    "results_df.to_csv('playoffs_model_performance.csv')\n",
    "\n",
    "# Save best model\n",
    "if best_model == 'TensorFlow NN':\n",
    "    nn_model.save('playoffs_prediction_model.h5')\n",
    "    print(\"💾 TensorFlow model saved as 'playoffs_prediction_model.h5'\")\n",
    "\n",
    "print(\"💾 Files exported:\")\n",
    "print(\"- nba_playoffs_predictions.csv\")\n",
    "print(\"- playoffs_feature_importance.csv\")\n",
    "print(\"- playoffs_model_performance.csv\")\n",
    "\n",
    "print(f\"\\n🏀 PLAYOFFS PREDICTION SUMMARY:\")\n",
    "print(f\"Using regular season data to predict playoff performance\")\n",
    "print(f\"Best Model: {best_model} (R² = {results_df.loc[best_model, 'R2']:.3f})\")\n",
    "print(f\"Total playoff predictions: {len(playoffs_results)}\")\n",
    "print(f\"\\n⭐ Key Insight: Playoff prediction is inherently challenging!\")\n",
    "print(f\"Players often perform differently under playoff pressure.\")"
   ]
  },
  {
   "cell_type": "markdown",
   "metadata": {},
   "source": [
    "## 10. Key Insights & Playoff Prediction Challenges\n",
    "\n",
    "### 🏀 Why Playoff Prediction is Difficult:\n",
    "1. **Intensity Difference**: Playoffs are more intense than regular season\n",
    "2. **Rotation Changes**: Coaches use different lineups and minutes distribution\n",
    "3. **Pressure Factor**: Some players thrive under pressure, others struggle\n",
    "4. **Matchup Adjustments**: Teams make specific adjustments for playoff opponents\n",
    "5. **Small Sample Size**: Limited regular season data to learn from\n",
    "\n",
    "### 🎯 What This Model Captures Well:\n",
    "1. **Player Role Identification**: Star players vs role players\n",
    "2. **Team Strength Context**: Strong teams vs weak teams\n",
    "3. **Historical Performance Trends**: Consistent scorers vs inconsistent players\n",
    "4. **Matchup Difficulty**: Tough opponents vs easier matchups\n",
    "\n",
    "### 🔑 Pre-Game Features Most Important for Playoffs:\n",
    "1. **Regular Season Scoring Average**: Best predictor of playoff scoring\n",
    "2. **Player Role (Star/Starter)**: Determines opportunity and usage\n",
    "3. **Team Strength**: Better teams create better scoring opportunities\n",
    "4. **Matchup Context**: Easier opponents allow for higher scoring\n",
    "\n",
    "### 🚀 Improvements for Production Playoff Prediction:\n",
    "1. **Multi-Season Data**: Use multiple years of playoff and regular season data\n",
    "2. **Player-Specific Models**: Different models for stars vs role players\n",
    "3. **Advanced Metrics**: Usage rate, playoff experience, clutch performance\n",
    "4. **External Factors**: Injuries, rest, home court advantage\n",
    "5. **Ensemble Approaches**: Combine multiple model predictions\n",
    "\n",
    "### ⚠️ Limitations of Current Approach:\n",
    "1. **Limited Training Data**: Only one date of regular season games\n",
    "2. **No Playoff Experience Factor**: Missing player playoff history\n",
    "3. **No Injury Context**: Missing injury reports and player health\n",
    "4. **No Game Situation**: Missing home/away, game importance, etc.\n",
    "\n",
    "### 💡 Realistic Expectations:\n",
    "- **Good performance** (R² > 0.4): Model captures major trends\n",
    "- **Moderate performance** (R² 0.2-0.4): Some predictive power but high variance\n",
    "- **Poor performance** (R² < 0.2): Playoffs are inherently unpredictable\n",
    "\n",
    "This model provides a realistic baseline for playoff prediction using only pre-game knowledge!"
   ]
  }
 ],
 "metadata": {
  "kernelspec": {
   "display_name": "Python 3",
   "language": "python",
   "name": "python3"
  },
  "language_info": {
   "codemirror_mode": {
    "name": "ipython",
    "version": 3
   },
   "file_extension": ".py",
   "mimetype": "text/x-python",
   "name": "python",
   "nbconvert_exporter": "python",
   "pygments_lexer": "ipython3",
   "version": "3.10.5"
  }
 },
 "nbformat": 4,
 "nbformat_minor": 4
}
